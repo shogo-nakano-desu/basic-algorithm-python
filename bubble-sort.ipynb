tl = [1,4,5,6,3,8,9,7,2]

def bubble_sort(t):
  temp_s = 0
  temp_l = 0
  i = 0
  while i < len(tl) - 1:
    if tl[i] > tl[i+1]:
      temp_l = tl[i]
      tl[i] = tl[i+1]
      tl[i+1] = temp_l
      i -= 1
    else:
      i += 1
  return tl

bubble_sort(tl)
