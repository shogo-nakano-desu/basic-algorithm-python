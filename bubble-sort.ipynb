{
 "cells": [
  {
   "cell_type": "code",
   "execution_count": null,
   "id": "e44865a6",
   "metadata": {},
   "outputs": [],
   "source": [
    "tl = [1,4,5,6,3,8,9,7,2]\n",
    "\n",
    "def bubble_sort(t):\n",
    "  temp_s = 0\n",
    "  temp_l = 0\n",
    "  i = 0\n",
    "  while i < len(tl) - 1:\n",
    "    if tl[i] > tl[i+1]:\n",
    "      temp_l = tl[i]\n",
    "      tl[i] = tl[i+1]\n",
    "      tl[i+1] = temp_l\n",
    "      i -= 1\n",
    "    else:\n",
    "      i += 1\n",
    "  return tl\n",
    "\n",
    "bubble_sort(tl)"
   ]
  }
 ],
 "metadata": {
  "kernelspec": {
   "display_name": "Python 3",
   "language": "python",
   "name": "python3"
  },
  "language_info": {
   "codemirror_mode": {
    "name": "ipython",
    "version": 3
   },
   "file_extension": ".py",
   "mimetype": "text/x-python",
   "name": "python",
   "nbconvert_exporter": "python",
   "pygments_lexer": "ipython3",
   "version": "3.8.8"
  }
 },
 "nbformat": 4,
 "nbformat_minor": 5
}
