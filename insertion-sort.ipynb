{
 "cells": [
  {
   "cell_type": "code",
   "execution_count": 7,
   "id": "f6cf8859",
   "metadata": {},
   "outputs": [
    {
     "name": "stdout",
     "output_type": "stream",
     "text": [
      "[1, 2, 3, 4, 5, 6, 7, 8, 9]\n"
     ]
    }
   ],
   "source": [
    "tl = [4,5,1,6,3,8,9,7,2]\n",
    "\n",
    "def insertion_sort(tl):\n",
    "    fixed = [tl[0]]\n",
    "    i = 1\n",
    "    while i < len(tl):\n",
    "        tg = tl[i]\n",
    "        fixed_len = len(fixed)\n",
    "        check = 0\n",
    "        for t in range(len(fixed)):\n",
    "            if tg < fixed[t]:\n",
    "                fixed.insert(t,tg)\n",
    "                check += 1\n",
    "                break\n",
    "        if check == 0: \n",
    "            fixed.append(tg)\n",
    "\n",
    "        i += 1\n",
    "    return fixed\n",
    "\n",
    "ans = insertion_sort(tl)\n",
    "print(ans)"
   ]
  }
 ],
 "metadata": {
  "kernelspec": {
   "display_name": "Python 3",
   "language": "python",
   "name": "python3"
  },
  "language_info": {
   "codemirror_mode": {
    "name": "ipython",
    "version": 3
   },
   "file_extension": ".py",
   "mimetype": "text/x-python",
   "name": "python",
   "nbconvert_exporter": "python",
   "pygments_lexer": "ipython3",
   "version": "3.8.8"
  }
 },
 "nbformat": 4,
 "nbformat_minor": 5
}
