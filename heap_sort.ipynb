{
  "nbformat": 4,
  "nbformat_minor": 0,
  "metadata": {
    "colab": {
      "name": "heap_sort.ipynb",
      "provenance": [],
      "collapsed_sections": [],
      "mount_file_id": "12gw1BmxwESMj06U3a4oMXkSDwnuRYrXz",
      "authorship_tag": "ABX9TyOKSud7EwBZagMbXpydTPXt",
      "include_colab_link": true
    },
    "kernelspec": {
      "name": "python3",
      "display_name": "Python 3"
    },
    "language_info": {
      "name": "python"
    }
  },
  "cells": [
    {
      "cell_type": "markdown",
      "metadata": {
        "id": "view-in-github",
        "colab_type": "text"
      },
      "source": [
        "<a href=\"https://colab.research.google.com/github/shogo-nakano-desu/basic-algorithm-python/blob/main/heap_sort.ipynb\" target=\"_parent\"><img src=\"https://colab.research.google.com/assets/colab-badge.svg\" alt=\"Open In Colab\"/></a>"
      ]
    },
    {
      "cell_type": "code",
      "metadata": {
        "colab": {
          "base_uri": "https://localhost:8080/",
          "height": 69
        },
        "id": "usPtLZw9zDMJ",
        "outputId": "e63d18d5-5e9a-4504-bacd-63f8a2348c41"
      },
      "source": [
        "def max_heap_sort(arr):\n",
        "    # up_heap\n",
        "    for i in range(len(arr)):\n",
        "        up_heap(arr, i)\n",
        "\n",
        "    # fix the root ＆ down_heap\n",
        "    for i in range(len(arr)-1,0,-1):\n",
        "        fix_root(arr,i)\n",
        "        down_heap(arr,i-1)\n",
        "\n",
        "\n",
        "def up_heap(arr,c):\n",
        "    # loop until the last node is added\n",
        "    while c != 0:\n",
        "        p = (c-1)//2\n",
        "        # parent >= child => finish\n",
        "        if arr[p] >= arr[c]:\n",
        "            break\n",
        "        # parent < child => swap\n",
        "        else:\n",
        "            temp = arr[p]\n",
        "            arr[p] = arr[c]\n",
        "            arr[c] = temp\n",
        "            # keep the child index\n",
        "            c = p\n",
        "\n",
        "\n",
        "def down_heap(arr, i):\n",
        "    p = 0\n",
        "    # loop until break\n",
        "    while True:\n",
        "        # set child index to the lower left of parent\n",
        "        c = p*2+1\n",
        "        # child index > last index => finish\n",
        "        if c > i:\n",
        "            break\n",
        "        # [child index is not the last index] & [The left child is bigger than the right child] => check with the right child\n",
        "        if (c < i) & (arr[c] < arr[c+1]):\n",
        "            c += 1\n",
        "        #parent < child => swap\n",
        "        if arr[p] < arr[c]:\n",
        "            temp = arr[p]\n",
        "            arr[p] = arr[c]\n",
        "            arr[c] = temp\n",
        "            # keep the parent index to continue\n",
        "            p = c\n",
        "        # parent >= child => finish\n",
        "        else:\n",
        "            break\n",
        "\n",
        "# fix the root(biggest number)\n",
        "def fix_root(arr, e):\n",
        "    temp = arr[0]\n",
        "    arr[0] = arr[e]\n",
        "    arr[e] = temp\n",
        "\n",
        "arr = [8,2,5,7,1,3,4,6,9]\n",
        "print(f\"before {arr}\")\n",
        "main_sort(arr)\n",
        "print(f\"after {arr}\")\n",
        "\n",
        "\"\"\"\n",
        "output:\n",
        "before [8, 2, 5, 7, 1, 3, 4, 6, 9]\n",
        "after [1, 2, 3, 4, 5, 6, 7, 8, 9]\n",
        "\"\"\""
      ],
      "execution_count": 70,
      "outputs": [
        {
          "output_type": "stream",
          "name": "stdout",
          "text": [
            "before [8, 2, 5, 7, 1, 3, 4, 6, 9]\n",
            "after [1, 2, 3, 4, 5, 6, 7, 8, 9]\n"
          ]
        },
        {
          "output_type": "execute_result",
          "data": {
            "application/vnd.google.colaboratory.intrinsic+json": {
              "type": "string"
            },
            "text/plain": [
              "'\\nbefore [8, 2, 5, 7, 1, 3, 4, 6, 9]\\nafter [1, 2, 3, 4, 5, 6, 7, 8, 9]\\n'"
            ]
          },
          "metadata": {},
          "execution_count": 70
        }
      ]
    },
    {
      "cell_type": "code",
      "metadata": {
        "colab": {
          "base_uri": "https://localhost:8080/"
        },
        "id": "4ghnNQSMyk9y",
        "outputId": "53075a7b-8b74-4e86-c407-45836c031fd2"
      },
      "source": [
        "#This algorithm is not a heap sort algorithm because it serch almost all of the elements.\n",
        "def min_heap_sort(arr):\n",
        "    for i in range(len(arr)-1):\n",
        "        min_heapify(arr,i)\n",
        "    return arr\n",
        "\n",
        "def min_heapify(arr, i):\n",
        "    # declare the root which should be the smallest\n",
        "    top = arr[i]\n",
        "    k = i+1\n",
        "    # compare the root with childrens\n",
        "    while k < len(arr):\n",
        "        if top <= arr[k]:\n",
        "            k += 1\n",
        "        else:\n",
        "            # change the root with smaller children\n",
        "            temp = top\n",
        "            arr[i] = arr[k]\n",
        "            arr[k] = temp\n",
        "            k = i+1\n",
        "            top = arr[i]\n",
        "\n",
        "arr = [3,2,5,7,8,1,9,4,6]\n",
        "sort_main(arr)\n",
        "# output: [1, 2, 3, 4, 5, 6, 7, 8, 9]"
      ],
      "execution_count": null,
      "outputs": [
        {
          "output_type": "execute_result",
          "data": {
            "text/plain": [
              "[1, 2, 3, 4, 5, 6, 7, 8, 9]"
            ]
          },
          "metadata": {},
          "execution_count": 17
        }
      ]
    }
  ]
}