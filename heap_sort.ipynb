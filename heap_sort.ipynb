{
  "nbformat": 4,
  "nbformat_minor": 0,
  "metadata": {
    "colab": {
      "name": "heap_sort.ipynb",
      "provenance": [],
      "collapsed_sections": [],
      "mount_file_id": "12gw1BmxwESMj06U3a4oMXkSDwnuRYrXz",
      "authorship_tag": "ABX9TyNe28yx+VWVy5AQpdaORZom",
      "include_colab_link": true
    },
    "kernelspec": {
      "name": "python3",
      "display_name": "Python 3"
    },
    "language_info": {
      "name": "python"
    }
  },
  "cells": [
    {
      "cell_type": "markdown",
      "metadata": {
        "id": "view-in-github",
        "colab_type": "text"
      },
      "source": [
        "<a href=\"https://colab.research.google.com/github/shogo-nakano-desu/basic-algorithm-python/blob/main/heap_sort.ipynb\" target=\"_parent\"><img src=\"https://colab.research.google.com/assets/colab-badge.svg\" alt=\"Open In Colab\"/></a>"
      ]
    },
    {
      "cell_type": "code",
      "metadata": {
        "colab": {
          "base_uri": "https://localhost:8080/"
        },
        "id": "4ghnNQSMyk9y",
        "outputId": "53075a7b-8b74-4e86-c407-45836c031fd2"
      },
      "source": [
        "def min_heap_sort(arr):\n",
        "    for i in range(len(arr)-1):\n",
        "        min_heapify(arr,i)\n",
        "    return arr\n",
        "\n",
        "def min_heapify(arr, i):\n",
        "    # declare the root which should be the smallest\n",
        "    top = arr[i]\n",
        "    k = i+1\n",
        "    # compare the root with childrens\n",
        "    while k < len(arr):\n",
        "        if top <= arr[k]:\n",
        "            k += 1\n",
        "        else:\n",
        "            # change the root with smaller children\n",
        "            temp = top\n",
        "            arr[i] = arr[k]\n",
        "            arr[k] = temp\n",
        "            k = i+1\n",
        "            top = arr[i]\n",
        "\n",
        "arr = [3,2,5,7,8,1,9,4,6]\n",
        "sort_main(arr)\n",
        "# output: [1, 2, 3, 4, 5, 6, 7, 8, 9]"
      ],
      "execution_count": 17,
      "outputs": [
        {
          "output_type": "execute_result",
          "data": {
            "text/plain": [
              "[1, 2, 3, 4, 5, 6, 7, 8, 9]"
            ]
          },
          "metadata": {},
          "execution_count": 17
        }
      ]
    }
  ]
}