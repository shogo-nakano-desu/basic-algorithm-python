{
  "nbformat": 4,
  "nbformat_minor": 0,
  "metadata": {
    "colab": {
      "name": "heap_sort.ipynb",
      "provenance": [],
      "collapsed_sections": [],
      "mount_file_id": "12gw1BmxwESMj06U3a4oMXkSDwnuRYrXz",
      "authorship_tag": "ABX9TyPhU//OmZ1zNTiiwO7dOURF",
      "include_colab_link": true
    },
    "kernelspec": {
      "name": "python3",
      "display_name": "Python 3"
    },
    "language_info": {
      "name": "python"
    }
  },
  "cells": [
    {
      "cell_type": "markdown",
      "metadata": {
        "id": "view-in-github",
        "colab_type": "text"
      },
      "source": [
        "<a href=\"https://colab.research.google.com/github/shogo-nakano-desu/basic-algorithm-python/blob/main/heap_sort.ipynb\" target=\"_parent\"><img src=\"https://colab.research.google.com/assets/colab-badge.svg\" alt=\"Open In Colab\"/></a>"
      ]
    },
    {
      "cell_type": "code",
      "metadata": {
        "colab": {
          "base_uri": "https://localhost:8080/"
        },
        "id": "OZHy63kI44T7",
        "outputId": "651d1a2e-f5cd-4812-cf17-1d04e91362ad"
      },
      "source": [
        "# it needs to be polished\n",
        "def heap_sort():\n",
        "    hl = [8,7,3,5,4,1,9,2,6]\n",
        "    stash = []\n",
        "    i = 0\n",
        "    while i*2+1 < len(hl):\n",
        "        if hl[i] < hl[i*2]:\n",
        "            stash.append(hl[i])\n",
        "            hl[i] = hl[i*2]\n",
        "            hl[i*2] = stash[0]\n",
        "            stash.clear()\n",
        "            i = 0\n",
        "        elif hl[i] < hl[i*2+1]:\n",
        "            stash.append(hl[i])\n",
        "            hl[i] = hl[i*2+1]\n",
        "            hl[i*2+1] = stash[0]\n",
        "            stash.clear()\n",
        "            i = 0\n",
        "        else:\n",
        "            i += 1\n",
        "    print(hl)\n",
        "heap_sort()"
      ],
      "execution_count": 8,
      "outputs": [
        {
          "output_type": "stream",
          "name": "stdout",
          "text": [
            "[9, 8, 4, 7, 3, 1, 5, 2, 6]\n"
          ]
        }
      ]
    }
  ]
}