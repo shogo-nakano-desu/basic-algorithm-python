{
 "cells": [
  {
   "cell_type": "code",
   "execution_count": 19,
   "id": "200c670b",
   "metadata": {},
   "outputs": [
    {
     "name": "stdout",
     "output_type": "stream",
     "text": [
      "[1, 2, 3, 4, 5, 6, 7, 8, 9]\n"
     ]
    }
   ],
   "source": [
    "lt = [5,2,3,7,8,4,6,1,9]\n",
    "def selection_sort(lt):\n",
    "    temp = 0\n",
    "    # 1つ目から最後の１つ前まで最小値を置き換えていく\n",
    "    for t in range(len(lt)-1):\n",
    "        min = lt[t]\n",
    "        i = t\n",
    "        while i < len(lt)-1:\n",
    "            # minが次の数より大きい時置き換える\n",
    "            if min > lt[i+1]:\n",
    "                temp = min\n",
    "                min = lt[i+1]\n",
    "                lt[i+1] = temp\n",
    "            i += 1\n",
    "        # 最小値が決まっていない一番左の値を最小値で置き換える\n",
    "        lt[t] = min\n",
    "    return lt\n",
    "\n",
    "ans = selection_sort(lt)\n",
    "print(ans)"
   ]
  },
  {
   "cell_type": "code",
   "execution_count": null,
   "id": "92bd07b4",
   "metadata": {},
   "outputs": [],
   "source": []
  },
  {
   "cell_type": "code",
   "execution_count": null,
   "id": "5ff44554",
   "metadata": {},
   "outputs": [],
   "source": []
  }
 ],
 "metadata": {
  "kernelspec": {
   "display_name": "Python 3",
   "language": "python",
   "name": "python3"
  },
  "language_info": {
   "codemirror_mode": {
    "name": "ipython",
    "version": 3
   },
   "file_extension": ".py",
   "mimetype": "text/x-python",
   "name": "python",
   "nbconvert_exporter": "python",
   "pygments_lexer": "ipython3",
   "version": "3.8.8"
  }
 },
 "nbformat": 4,
 "nbformat_minor": 5
}
