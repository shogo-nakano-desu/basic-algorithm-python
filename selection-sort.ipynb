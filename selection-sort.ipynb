{
 "cells": [
  {
   "cell_type": "code",
   "execution_count": 20,
   "id": "ab915238",
   "metadata": {},
   "outputs": [
    {
     "name": "stdout",
     "output_type": "stream",
     "text": [
      "[1, 2, 3, 4, 5, 6, 7, 8, 9]\n"
     ]
    }
   ],
   "source": [
    "tl = [5,2,3,7,8,4,6,1,9]\n",
    "def selection_sort(tl):\n",
    "    temp = 0\n",
    "    # 1つ目から最後の１つ前まで最小値を置き換えていく\n",
    "    for t in range(len(tl)-1):\n",
    "        min = tl[t]\n",
    "        i = t\n",
    "        while i < len(tl)-1:\n",
    "            # minが次の数より大きい時置き換える\n",
    "            if min > tl[i+1]:\n",
    "                temp = min\n",
    "                min = tl[i+1]\n",
    "                tl[i+1] = temp\n",
    "            i += 1\n",
    "        # 最小値が決まっていない一番左の値を最小値で置き換える\n",
    "        tl[t] = min\n",
    "    return tl\n",
    "\n",
    "ans = selection_sort(tl)\n",
    "print(ans)"
   ]
  }
 ],
 "metadata": {
  "kernelspec": {
   "display_name": "Python 3",
   "language": "python",
   "name": "python3"
  },
  "language_info": {
   "codemirror_mode": {
    "name": "ipython",
    "version": 3
   },
   "file_extension": ".py",
   "mimetype": "text/x-python",
   "name": "python",
   "nbconvert_exporter": "python",
   "pygments_lexer": "ipython3",
   "version": "3.8.8"
  }
 },
 "nbformat": 4,
 "nbformat_minor": 5
}
