{
  "nbformat": 4,
  "nbformat_minor": 0,
  "metadata": {
    "colab": {
      "name": "merge_sort.ipynb",
      "provenance": [],
      "authorship_tag": "ABX9TyNatjpHu51iILlsrEs6bCWV",
      "include_colab_link": true
    },
    "kernelspec": {
      "name": "python3",
      "display_name": "Python 3"
    },
    "language_info": {
      "name": "python"
    }
  },
  "cells": [
    {
      "cell_type": "markdown",
      "metadata": {
        "id": "view-in-github",
        "colab_type": "text"
      },
      "source": [
        "<a href=\"https://colab.research.google.com/github/shogo-nakano-desu/basic-algorithm-python/blob/main/merge_sort.ipynb\" target=\"_parent\"><img src=\"https://colab.research.google.com/assets/colab-badge.svg\" alt=\"Open In Colab\"/></a>"
      ]
    },
    {
      "cell_type": "code",
      "metadata": {
        "id": "Spb-jnIyGESI",
        "colab": {
          "base_uri": "https://localhost:8080/"
        },
        "outputId": "bf2c6463-2e1b-4679-e0bb-e856470e2ca2"
      },
      "source": [
        "def merge_sort(arr):\n",
        "    # when given array's length is less than 1, return the array\n",
        "    if len(arr) <= 1:\n",
        "        return arr\n",
        "    # define the middle index of the given array\n",
        "    mi = len(arr) // 2\n",
        "    larr = arr[:mi]\n",
        "    rarr = arr[mi:]\n",
        "    # call merge_sort recursively\n",
        "    larr = merge_sort(larr)\n",
        "    rarr = merge_sort(rarr)\n",
        "    # finally, merge the left side and the right side\n",
        "    return merge(larr, rarr)\n",
        "\n",
        "# merge to arrays with comparison\n",
        "def merge(larr, rarr):\n",
        "    # create empty list to store result\n",
        "    temp = []\n",
        "    # compare from the left side of each array\n",
        "    li = 0\n",
        "    ri = 0\n",
        "\n",
        "    while (li < len(larr)) & (ri < len(rarr)):\n",
        "        if larr[li] <= rarr[ri]:\n",
        "            temp.append(larr[li])\n",
        "            li += 1\n",
        "        else:\n",
        "            temp.append(rarr[ri])\n",
        "            ri += 1\n",
        "    \n",
        "    if li == len(larr):\n",
        "    # if larr:\n",
        "        temp.extend(rarr[ri:])\n",
        "    else:\n",
        "    # if rarr:\n",
        "        temp.extend(larr[li:])\n",
        "    return temp\n",
        "\n",
        "array = [4,2,1,5,3,6,7,1,10,9]\n",
        "merge_sort(array)\n",
        "# output: [1, 1, 2, 3, 4, 5, 6, 7, 9, 10]"
      ],
      "execution_count": 58,
      "outputs": [
        {
          "output_type": "execute_result",
          "data": {
            "text/plain": [
              "[1, 1, 2, 3, 4, 5, 6, 7, 9, 10]"
            ]
          },
          "metadata": {},
          "execution_count": 58
        }
      ]
    }
  ]
}